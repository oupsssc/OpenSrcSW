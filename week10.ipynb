{
 "cells": [
  {
   "cell_type": "code",
   "execution_count": 2,
   "id": "efa6cf78",
   "metadata": {},
   "outputs": [
    {
     "name": "stdout",
     "output_type": "stream",
     "text": [
      "Numbers? 20\t1\t3 203\n",
      "Max = 203\n"
     ]
    }
   ],
   "source": [
    "#실습2\n",
    "nums = input(\"Numbers? \")\n",
    "numlist = nums.split()\n",
    "m = int(numlist[0].strip())\n",
    "for i in numlist:\n",
    "    tmp = int(i.strip())\n",
    "    if m<tmp:\n",
    "        m=tmp\n",
    "print(\"Max =\",m)"
   ]
  },
  {
   "cell_type": "code",
   "execution_count": 12,
   "id": "29d76a76",
   "metadata": {},
   "outputs": [
    {
     "name": "stdout",
     "output_type": "stream",
     "text": [
      "input string : abc def\n",
      "efg bcd \n",
      "input string : efg bcd\n",
      "['bcd', 'efg']\n",
      "abc def \n"
     ]
    }
   ],
   "source": [
    "#실습3\n",
    "a = input(\"input string : \")\n",
    "en_a = \"\"\n",
    "alist = a.split()\n",
    "alist.reverse()   \n",
    "for i in alist:\n",
    "    en_word = \"\"\n",
    "    for j in i:\n",
    "        ac = ord(j)\n",
    "        ac += 1\n",
    "        ch = chr(ac)\n",
    "        en_word += ch\n",
    "    en_word+=\" \"\n",
    "    en_a += en_word\n",
    "print(en_a)\n",
    "\n",
    "\n",
    "b = input(\"input string : \")\n",
    "en_b = \"\"\n",
    "blist = b.split()\n",
    "blist.reverse()   \n",
    "for i in blist:\n",
    "    en_word = \"\"\n",
    "    for j in i:\n",
    "        ac = ord(j)\n",
    "        ac -= 1\n",
    "        ch = chr(ac)\n",
    "        en_word += ch\n",
    "    en_word+=\" \"\n",
    "    en_b += en_word\n",
    "print(en_b)\n"
   ]
  },
  {
   "cell_type": "code",
   "execution_count": 1,
   "id": "49316e49",
   "metadata": {},
   "outputs": [
    {
     "name": "stdout",
     "output_type": "stream",
     "text": [
      "1번째 사람의 이름과 전화번호를 공백기준 입력(중복 불허)a 1\n",
      "2번째 사람의 이름과 전화번호를 공백기준 입력(중복 불허)b 2\n",
      "3번째 사람의 이름과 전화번호를 공백기준 입력(중복 불허)c 3\n",
      "4번째 사람의 이름과 전화번호를 공백기준 입력(중복 불허)d 4\n",
      "5번째 사람의 이름과 전화번호를 공백기준 입력(중복 불허)e 5\n",
      "6번째 사람의 이름과 전화번호를 공백기준 입력(중복 불허)g 6\n",
      "7번째 사람의 이름과 전화번호를 공백기준 입력(중복 불허)q 7\n",
      "8번째 사람의 이름과 전화번호를 공백기준 입력(중복 불허)f 8\n",
      "9번째 사람의 이름과 전화번호를 공백기준 입력(중복 불허)i 9\n",
      "10번째 사람의 이름과 전화번호를 공백기준 입력(중복 불허)l 10\n",
      "name=?a\n",
      "1\n",
      "telnum=?8\n",
      "f\n"
     ]
    }
   ],
   "source": [
    "#실습4\n",
    "nd = {}\n",
    "td = {}\n",
    "for i in range(10):\n",
    "    s = input(str(i+1)+\"번째 사람의 이름과 전화번호를 공백기준 입력(중복 불허)\")\n",
    "    slist = s.split()\n",
    "    nd[slist[0]]=slist[1]\n",
    "    td[slist[1]]=slist[0]\n",
    "find = input(\"name=?\")\n",
    "print(nd.get(find))\n",
    "find = input(\"telnum=?\")\n",
    "print(td.get(find))\n",
    "    \n",
    "    \n",
    "    \n",
    "    \n",
    "    \n",
    "    "
   ]
  },
  {
   "cell_type": "code",
   "execution_count": null,
   "id": "055d26b1",
   "metadata": {},
   "outputs": [],
   "source": []
  }
 ],
 "metadata": {
  "kernelspec": {
   "display_name": "Python 3",
   "language": "python",
   "name": "python3"
  },
  "language_info": {
   "codemirror_mode": {
    "name": "ipython",
    "version": 3
   },
   "file_extension": ".py",
   "mimetype": "text/x-python",
   "name": "python",
   "nbconvert_exporter": "python",
   "pygments_lexer": "ipython3",
   "version": "3.7.3"
  }
 },
 "nbformat": 4,
 "nbformat_minor": 5
}
