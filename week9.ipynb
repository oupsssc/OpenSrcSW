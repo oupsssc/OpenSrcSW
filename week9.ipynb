{
 "cells": [
  {
   "cell_type": "code",
   "execution_count": 1,
   "id": "534cb599",
   "metadata": {},
   "outputs": [
    {
     "name": "stdout",
     "output_type": "stream",
     "text": [
      "x값을 입력하시오3\n",
      "45.0\n",
      "반지름을 입력하시오3\n",
      "둘레 : 18.84\n",
      "넓이 : 28.26\n"
     ]
    }
   ],
   "source": [
    "x=float(input(\"x값을 입력하시오\"))\n",
    "y=3.0*pow(x,2)+5.0*x+3\n",
    "print(y)\n",
    "r=float(input(\"반지름을 입력하시오\"))\n",
    "pi=3.14\n",
    "print(\"둘레 :\",2*r*pi)\n",
    "print(\"넓이 :\",pow(r,2)*pi)"
   ]
  },
  {
   "cell_type": "code",
   "execution_count": null,
   "id": "5503bef8",
   "metadata": {},
   "outputs": [],
   "source": []
  }
 ],
 "metadata": {
  "kernelspec": {
   "display_name": "Python 3",
   "language": "python",
   "name": "python3"
  },
  "language_info": {
   "codemirror_mode": {
    "name": "ipython",
    "version": 3
   },
   "file_extension": ".py",
   "mimetype": "text/x-python",
   "name": "python",
   "nbconvert_exporter": "python",
   "pygments_lexer": "ipython3",
   "version": "3.7.3"
  }
 },
 "nbformat": 4,
 "nbformat_minor": 5
}
