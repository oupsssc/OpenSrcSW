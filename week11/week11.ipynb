{
 "cells": [
  {
   "cell_type": "code",
   "execution_count": 4,
   "id": "613e4d01",
   "metadata": {},
   "outputs": [
    {
     "name": "stdout",
     "output_type": "stream",
     "text": [
      "1 + 2 = 3 입니다.\n",
      "5 - 1 = 4 입니다.\n",
      "2 * 3 = 6 입니다.\n",
      "6 / 2 = 3.0 입니다.\n"
     ]
    }
   ],
   "source": [
    "#실습8\n",
    "class Calc:\n",
    "    def sum(self,a,b):\n",
    "        result = a+b\n",
    "        print(\"{0} + {1} = {2} 입니다.\".format(a,b,result))\n",
    "    def sub(self,a,b):\n",
    "        result = a-b\n",
    "        print(\"{0} - {1} = {2} 입니다.\".format(a,b,result))\n",
    "    def multi(self,a,b):\n",
    "        result = a*b\n",
    "        print(\"{0} * {1} = {2} 입니다.\".format(a,b,result))\n",
    "    def divi(self,a,b):\n",
    "        result = a/b\n",
    "        print(\"{0} / {1} = {2} 입니다.\".format(a,b,result))\n",
    "calc = Calc()\n",
    "calc.sum(1,2)\n",
    "calc.sub(5,1)\n",
    "calc.multi(2,3)\n",
    "calc.divi(6,2)"
   ]
  },
  {
   "cell_type": "code",
   "execution_count": 11,
   "id": "73abad3f",
   "metadata": {},
   "outputs": [
    {
     "name": "stdout",
     "output_type": "stream",
     "text": [
      "계산식 입력: 1 + 2 - 3 * 4 + 5\n",
      "계산식 출력: 1+2-3*4+5= -4.0\n"
     ]
    }
   ],
   "source": [
    "#실습9\n",
    "class Stack:\n",
    "    def __init__(self):\n",
    "        self.l = []\n",
    "    def push(self,a):\n",
    "        self.l.append(a)\n",
    "    def pop(self):\n",
    "        return self.l.pop(-1)\n",
    "    def top(self):\n",
    "        return self.l[-1]\n",
    "    def empty(self):\n",
    "        if self.l: return False\n",
    "        else: return True\n",
    "\n",
    "numStack = Stack()\n",
    "opStack = Stack()\n",
    "result = 0\n",
    "form = input(\"계산식 입력: \")\n",
    "fsplit = form.split()\n",
    "for tmp in fsplit:\n",
    "    if tmp==\"+\" or tmp==\"-\" or tmp==\"*\" or tmp==\"/\":\n",
    "        if opStack.empty():\n",
    "            opStack.push(tmp)\n",
    "        else:\n",
    "            o = opStack.top()\n",
    "            if tmp==\"+\" or tmp==\"-\":\n",
    "                tmp1 = numStack.pop()\n",
    "                tmp2 = numStack.pop()\n",
    "                if o==\"+\":\n",
    "                    numStack.push(float(tmp2) + float(tmp1))\n",
    "                else:\n",
    "                    numStack.push(float(tmp2) - float(tmp1))\n",
    "                opStack.pop()\n",
    "                opStack.push(tmp)\n",
    "            else:   #곱하기나 나누기일때\n",
    "                opStack.push(tmp)\n",
    "\n",
    "    else:\n",
    "        if numStack.empty():\n",
    "            numStack.push(tmp)\n",
    "        else:\n",
    "            o=opStack.top()\n",
    "            if o==\"+\" or o==\"-\":\n",
    "                numStack.push(tmp)\n",
    "            else:\n",
    "                tmp1 = numStack.pop()\n",
    "                if o==\"*\":\n",
    "                    numStack.push(float(tmp1) * float(tmp))\n",
    "                else:\n",
    "                    numStack.push(float(tmp1) / float(tmp))\n",
    "\n",
    "if opStack.empty():\n",
    "    result=numStack.pop()\n",
    "else:\n",
    "    o = opStack.pop()\n",
    "    tmp1 = numStack.pop()\n",
    "    tmp2 = numStack.pop()\n",
    "    if o==\"+\":\n",
    "        result = float(tmp2)+float(tmp1)\n",
    "    else:\n",
    "        result = float(tmp2)-float(tmp1)\n",
    "print(\"계산식 출력: \",end='')\n",
    "for tmp in fsplit:\n",
    "    print(tmp,end='')\n",
    "print(\"=\",result)\n"
   ]
  },
  {
   "cell_type": "code",
   "execution_count": null,
   "id": "47f16ace",
   "metadata": {},
   "outputs": [],
   "source": []
  }
 ],
 "metadata": {
  "kernelspec": {
   "display_name": "Python 3",
   "language": "python",
   "name": "python3"
  },
  "language_info": {
   "codemirror_mode": {
    "name": "ipython",
    "version": 3
   },
   "file_extension": ".py",
   "mimetype": "text/x-python",
   "name": "python",
   "nbconvert_exporter": "python",
   "pygments_lexer": "ipython3",
   "version": "3.7.3"
  }
 },
 "nbformat": 4,
 "nbformat_minor": 5
}
