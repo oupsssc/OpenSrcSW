{
 "cells": [
  {
   "cell_type": "code",
   "execution_count": 6,
   "id": "a1733573",
   "metadata": {},
   "outputs": [
    {
     "name": "stdout",
     "output_type": "stream",
     "text": [
      "( 1 , 2 )\n",
      "( 3 , 4 )\n",
      "( 4 , 6 )\n"
     ]
    }
   ],
   "source": [
    "class Point :\n",
    "    x = 0\n",
    "    y = 0\n",
    "    def __init__(self,a,b):\n",
    "        self.x=a\n",
    "        self.y=b\n",
    "    def __add__(self,other):\n",
    "        self.x = self.x+other.x\n",
    "        self.y = self.y+other.y\n",
    "        return self\n",
    "    def show(self):\n",
    "        print(\"(\",self.x,\",\",self.y,\")\")\n",
    "    \n",
    "a = Point(1,2)\n",
    "a.show()\n",
    "\n",
    "b= Point(3,4)\n",
    "b.show()\n",
    "\n",
    "a= a+b\n",
    "a.show()"
   ]
  },
  {
   "cell_type": "code",
   "execution_count": 7,
   "id": "87109625",
   "metadata": {},
   "outputs": [
    {
     "name": "stdout",
     "output_type": "stream",
     "text": [
      "Max week = 5/8 ~ 5/14\n"
     ]
    }
   ],
   "source": [
    "import csv\n",
    "f= open('seoul.csv','r',encoding='cp949')\n",
    "data = csv.reader(f)\n",
    "header = next(data)\n",
    "day = 0\n",
    "dif = [0]\n",
    "for row in data:\n",
    "    day += 1\n",
    "    if day==8:\n",
    "        day=1\n",
    "        dif.append(float(row[-1])-float(row[-2]))\n",
    "    else:\n",
    "        dif[-1]= dif[-1]+(float(row[-1])-float(row[-2]))\n",
    "max = -1\n",
    "for i in dif:\n",
    "    if max<i:\n",
    "        max=i\n",
    "tmp = dif.index(max)\n",
    "if tmp == 0 :\n",
    "    print(\"Max week = 5/1 ~ 5/7\")\n",
    "elif tmp == 1:\n",
    "    print(\"Max week = 5/8 ~ 5/14\")\n",
    "elif tmp == 2:\n",
    "    print(\"Max week = 5/15 ~ 5/21\")\n",
    "elif tmp == 3:\n",
    "    print(\"Max week = 5/22 ~ 5/28\")\n",
    "elif tmp == 4:\n",
    "    print(\"Max week = 5/29 ~ 5/31\")\n",
    "\n"
   ]
  },
  {
   "cell_type": "code",
   "execution_count": 26,
   "id": "209f18d5",
   "metadata": {},
   "outputs": [
    {
     "name": "stdout",
     "output_type": "stream",
     "text": [
      "[1 1 0 0 1 0]\n",
      "[1 1 0 0 1 0]\n",
      "[1 1 0 0 1 0]\n",
      "[1 1 0 0 1 0]\n",
      "[1 1 0 0 1 0]\n",
      "[1 1 0 0 1 0]\n",
      "[1 1 0 0 1 0]\n",
      "[1 1 0 0 1 0]\n",
      "[1 1 0 0 1 0]\n",
      "[1 1 0 0 1 0]\n",
      "[1 1 0 0 1 0]\n",
      "[1 1 0 0 1 0]\n",
      "[1 1 0 0 1 0]\n",
      "[1 1 0 0 1 0]\n",
      "[1 1 0 0 1 0]\n",
      "[1 1 0 0 1 0]\n",
      "[1 1 0 0 1 0]\n",
      "[1 1 0 0 1 0]\n",
      "[0, 0, 0]\n"
     ]
    },
    {
     "data": {
      "text/plain": [
       "array([[1, 1, 0, 1, 0, 1],\n",
       "       [1, 1, 1, 0, 1, 0],\n",
       "       [1, 1, 0, 1, 0, 0]])"
      ]
     },
     "execution_count": 26,
     "metadata": {},
     "output_type": "execute_result"
    }
   ],
   "source": [
    "import numpy as np\n",
    "import matplotlib.pyplot as plt\n",
    "\n",
    "docs = np.array([1,1,0,1,0,1,1,1,1,0,1,0,1,1,0,1,0,0]).reshape(3,6)\n",
    "\n",
    "query = np.array([1,1,0,0,1,0])\n",
    "a= docs*query\n",
    "l = []\n",
    "\n",
    "\n",
    "abs(docs)*abs(docs)\n",
    "#각 엘리먼트 곱해서 다 더해"
   ]
  },
  {
   "cell_type": "code",
   "execution_count": null,
   "id": "411672ee",
   "metadata": {},
   "outputs": [],
   "source": []
  }
 ],
 "metadata": {
  "kernelspec": {
   "display_name": "Python 3",
   "language": "python",
   "name": "python3"
  },
  "language_info": {
   "codemirror_mode": {
    "name": "ipython",
    "version": 3
   },
   "file_extension": ".py",
   "mimetype": "text/x-python",
   "name": "python",
   "nbconvert_exporter": "python",
   "pygments_lexer": "ipython3",
   "version": "3.7.3"
  }
 },
 "nbformat": 4,
 "nbformat_minor": 5
}
